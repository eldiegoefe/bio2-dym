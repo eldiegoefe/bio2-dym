{
 "cells": [
  {
   "cell_type": "code",
   "execution_count": 1,
   "metadata": {
    "collapsed": true
   },
   "outputs": [],
   "source": [
    "import numpy as np"
   ]
  },
  {
   "cell_type": "markdown",
   "metadata": {},
   "source": [
    "# Sensor de temperatura"
   ]
  },
  {
   "cell_type": "markdown",
   "metadata": {},
   "source": [
    "## Expresión para la resistencia del NTC"
   ]
  },
  {
   "cell_type": "markdown",
   "metadata": {},
   "source": [
    "$R_{NTC} = R_0 \\cdot e^{\\beta \\cdot (\\frac{1}{T} - \\frac{1}{T_0})}$"
   ]
  },
  {
   "cell_type": "code",
   "execution_count": 2,
   "metadata": {
    "collapsed": true
   },
   "outputs": [],
   "source": [
    "def R_NTC(T0, R0, T):\n",
    "    # T0 y T se ingresan en grados centígrados\n",
    "    # R0 y R_NTC se consideran en ohms\n",
    "    # beta está extraida de la hoja de datos\n",
    "    \n",
    "    T0 = 273 + T0\n",
    "    T = 273 + T\n",
    "    beta = 3434\n",
    "    \n",
    "    return R0 * np.exp(beta * (1/T - 1/T0))"
   ]
  },
  {
   "cell_type": "markdown",
   "metadata": {},
   "source": [
    "Valores del NTC a temperaturas seleccionadas:"
   ]
  },
  {
   "cell_type": "code",
   "execution_count": 3,
   "metadata": {},
   "outputs": [
    {
     "name": "stdout",
     "output_type": "stream",
     "text": [
      "6878.81094646 2978.46322866 1449.58010402\n"
     ]
    }
   ],
   "source": [
    "R35 = R_NTC(25, 10000, 35)\n",
    "R60 = R_NTC(25, 10000, 60)\n",
    "R85 = R_NTC(25, 10000, 85)\n",
    "\n",
    "print(R35, R60, R85)"
   ]
  },
  {
   "cell_type": "markdown",
   "metadata": {},
   "source": [
    "## Cálculo de la resistencia de linealización (método de los 3 puntos)"
   ]
  },
  {
   "cell_type": "code",
   "execution_count": 4,
   "metadata": {
    "collapsed": true
   },
   "outputs": [],
   "source": [
    "def Rlin(RT1, RT2, RT3):\n",
    "    num = RT2*(RT1+RT3)-2*RT1*RT3\n",
    "    den = RT1+RT3-2*RT2\n",
    "    return num/den"
   ]
  },
  {
   "cell_type": "code",
   "execution_count": 5,
   "metadata": {},
   "outputs": [
    {
     "data": {
      "text/plain": [
       "2050.6447944614793"
      ]
     },
     "execution_count": 5,
     "metadata": {},
     "output_type": "execute_result"
    }
   ],
   "source": [
    "Rlinealizacion = Rlin(R35, R60, R85)\n",
    "Rlinealizacion"
   ]
  },
  {
   "cell_type": "markdown",
   "metadata": {},
   "source": [
    "## Cálculo de las resistencias resultantes"
   ]
  },
  {
   "cell_type": "code",
   "execution_count": 6,
   "metadata": {
    "collapsed": true
   },
   "outputs": [],
   "source": [
    "def paralelo(R1, R2):\n",
    "    Rpar = R1*R2/(R1+R2)\n",
    "    return Rpar"
   ]
  },
  {
   "cell_type": "code",
   "execution_count": 7,
   "metadata": {
    "collapsed": true
   },
   "outputs": [],
   "source": [
    "R35lin = paralelo(R35, Rlinealizacion)\n",
    "R60lin = paralelo(R60, Rlinealizacion)\n",
    "R85lin = paralelo(R85, Rlinealizacion)"
   ]
  },
  {
   "cell_type": "markdown",
   "metadata": {},
   "source": [
    "El NTC con la resistencia de linealización en paralelo, tendrá los siguientes valores a las temperaturas de 35, 60 y 85 grados centígrados."
   ]
  },
  {
   "cell_type": "code",
   "execution_count": 8,
   "metadata": {},
   "outputs": [
    {
     "name": "stdout",
     "output_type": "stream",
     "text": [
      "1579.71530054 1214.48377869 849.252256833\n"
     ]
    }
   ],
   "source": [
    "print(R35lin, R60lin, R85lin)"
   ]
  },
  {
   "cell_type": "markdown",
   "metadata": {},
   "source": [
    "### Verificación\n",
    "\n",
    "La diferencia de resistencia entre 85 y 60 grados, debe ser igual que la diferencia de resistencia entre 60 y 35 grados."
   ]
  },
  {
   "cell_type": "code",
   "execution_count": 9,
   "metadata": {},
   "outputs": [
    {
     "data": {
      "text/plain": [
       "-365.23152185415199"
      ]
     },
     "execution_count": 9,
     "metadata": {},
     "output_type": "execute_result"
    }
   ],
   "source": [
    "R85lin - R60lin"
   ]
  },
  {
   "cell_type": "code",
   "execution_count": 10,
   "metadata": {},
   "outputs": [
    {
     "data": {
      "text/plain": [
       "-365.23152185415188"
      ]
     },
     "execution_count": 10,
     "metadata": {},
     "output_type": "execute_result"
    }
   ],
   "source": [
    "R60lin - R35lin"
   ]
  },
  {
   "cell_type": "markdown",
   "metadata": {},
   "source": [
    "## Obtención de una expresión para la recta del NTC linealizado\n",
    "\n",
    "Como el NTC está linealizado por el método de los 3 puntos, la resistencia evaluada a esas 3 temperaturas deben quedar ubicadas sobre una recta, que se puede expresar como:"
   ]
  },
  {
   "cell_type": "markdown",
   "metadata": {},
   "source": [
    "$R = R_{ref} \\cdot (1+x)$ donde reemplazamos $x = -b \\cdot (T-T_{ref})$\n",
    "\n",
    "\n",
    "$R = R_{ref} \\cdot (1-b \\cdot (T-T_{ref}))$\n",
    "\n",
    "$R = R_{ref} - R_{ref} \\cdot b \\cdot (T-T_{ref})$\n",
    "\n",
    "donde $R_{ref}$ es la resistencia del NTC linealizado, a la temperatura $T_{ref}$, que en este caso se elige de $35$ grados (y es diferente a la temperatura nominal $T_0 = 25$ grados del NTC)."
   ]
  },
  {
   "cell_type": "markdown",
   "metadata": {},
   "source": [
    "### Obtención del coeficiente b\n",
    "\n",
    "$b = \\frac{R_{ref} - R}{R_{ref} \\cdot (T - T_{ref})}$"
   ]
  },
  {
   "cell_type": "code",
   "execution_count": 11,
   "metadata": {
    "collapsed": true
   },
   "outputs": [],
   "source": [
    "def b(Tref, Rref, T, R):\n",
    "    # Tref y T en grados centígrados o en kelvin, es indistinto porque es un delta\n",
    "    return (Rref-R)/(Rref*(T-Tref))"
   ]
  },
  {
   "cell_type": "markdown",
   "metadata": {},
   "source": [
    "Como se dijo antes, la referencia es 35 grados, para la cual la resistencia es R35lin."
   ]
  },
  {
   "cell_type": "code",
   "execution_count": 12,
   "metadata": {},
   "outputs": [
    {
     "data": {
      "text/plain": [
       "0.0092480340407916136"
      ]
     },
     "execution_count": 12,
     "metadata": {},
     "output_type": "execute_result"
    }
   ],
   "source": [
    "b(35, R35lin, 60, R60lin)"
   ]
  },
  {
   "cell_type": "code",
   "execution_count": 13,
   "metadata": {},
   "outputs": [
    {
     "data": {
      "text/plain": [
       "0.0092480340407916153"
      ]
     },
     "execution_count": 13,
     "metadata": {},
     "output_type": "execute_result"
    }
   ],
   "source": [
    "b(35, R35lin, 85, R85lin)"
   ]
  },
  {
   "cell_type": "markdown",
   "metadata": {},
   "source": [
    "Asignamos el valor a una variable para poder usarlo después:"
   ]
  },
  {
   "cell_type": "code",
   "execution_count": 14,
   "metadata": {},
   "outputs": [
    {
     "data": {
      "text/plain": [
       "0.0092480340407916153"
      ]
     },
     "execution_count": 14,
     "metadata": {},
     "output_type": "execute_result"
    }
   ],
   "source": [
    "coef_b = b(35, R35lin, 85, R85lin)\n",
    "coef_b"
   ]
  },
  {
   "cell_type": "markdown",
   "metadata": {},
   "source": [
    "Podemos encontrar el paralelo del NTC con su resistencia de linealización,  a cualquier temperatura, mediante la siguiente función:"
   ]
  },
  {
   "cell_type": "code",
   "execution_count": 15,
   "metadata": {
    "collapsed": true
   },
   "outputs": [],
   "source": [
    "def res_aprox(Tref, Rref, b, T):\n",
    "    # con Tref y T en grados centígrados\n",
    "    \n",
    "    return  Rref * (1 - b * (T-Tref))"
   ]
  },
  {
   "cell_type": "code",
   "execution_count": 16,
   "metadata": {},
   "outputs": [
    {
     "name": "stdout",
     "output_type": "stream",
     "text": [
      "1579.71530054 1214.48377869 849.252256833\n"
     ]
    }
   ],
   "source": [
    "R35aprox = res_aprox(35, R35lin, coef_b, 35)\n",
    "R60aprox = res_aprox(35, R35lin, coef_b, 60)\n",
    "R85aprox = res_aprox(35, R35lin, coef_b, 85)\n",
    "print(R35aprox, R60aprox, R85aprox)"
   ]
  },
  {
   "cell_type": "markdown",
   "metadata": {},
   "source": [
    "## Apartamiento de la linealidad"
   ]
  },
  {
   "cell_type": "markdown",
   "metadata": {},
   "source": [
    "Evaluación de la diferencia entre ambas expresiones (valor real y valor aproximado de Rparalelo) en uno de los 3 puntos usados para determinar la recta aproximada:"
   ]
  },
  {
   "cell_type": "code",
   "execution_count": 17,
   "metadata": {},
   "outputs": [
    {
     "name": "stdout",
     "output_type": "stream",
     "text": [
      "0.0 0.0 0.0\n"
     ]
    }
   ],
   "source": [
    "print(R35lin - R35aprox, R60lin - R60aprox, R85lin - R85aprox)"
   ]
  },
  {
   "cell_type": "markdown",
   "metadata": {},
   "source": [
    "Con el resultado anterior verificamos que esta recta representa el comportamiento lineal aproximado del paralelo entre el NTC y la resistencia de linealización. **¿Pero qué pasa fuera de estos 3 puntos?** Los valores de la resistencia linealizada se alejan un poco de la recta aproximada. Por ejemplo, a 70 grados centígrados, el valor que mediríamos con un ohmetro en condiciones ideales es:"
   ]
  },
  {
   "cell_type": "code",
   "execution_count": 18,
   "metadata": {},
   "outputs": [
    {
     "data": {
      "text/plain": [
       "1062.5266383707847"
      ]
     },
     "execution_count": 18,
     "metadata": {},
     "output_type": "execute_result"
    }
   ],
   "source": [
    "R70lin = paralelo(R_NTC(25, 10000, 70), Rlinealizacion)\n",
    "R70lin"
   ]
  },
  {
   "cell_type": "markdown",
   "metadata": {},
   "source": [
    "La resistencia estimada, de acuerdo con la linealización es distinta."
   ]
  },
  {
   "cell_type": "code",
   "execution_count": 19,
   "metadata": {},
   "outputs": [
    {
     "data": {
      "text/plain": [
       "1068.3911699455714"
      ]
     },
     "execution_count": 19,
     "metadata": {},
     "output_type": "execute_result"
    }
   ],
   "source": [
    "res_aprox(35, R35lin, coef_b, 70)"
   ]
  },
  {
   "cell_type": "markdown",
   "metadata": {},
   "source": [
    "Si encontramos la máxima diferencia (que sabemos que está entre medio de los puntos utilizados ya que la aproximación es sigmoidea), podremos encontrar la incertidumbre por no-linealidad. Por lo tanto, **las temperaturas a las cuales se producirá el mayor error será 35+(60-35)/2 = 47.5 y 60+(85-60)/2 = 72.5**. Si hubiéramos calculado la linealización por el punto de inflexión, sitúandolo en el medio del rango de medida (a 60 grados), el máximo error de no-linealidad debería calcularse en los puntos más alejados de éste, es decir a 35 y 85 grados. **Más adelante se calculan las incertidumbres asociadas a estos apartamientos de la recta teórica**."
   ]
  },
  {
   "cell_type": "markdown",
   "metadata": {},
   "source": [
    "# Rango (del sensor linealizado)"
   ]
  },
  {
   "cell_type": "markdown",
   "metadata": {},
   "source": [
    "De acuerdo con la función de transferencia del flujímetro ($v = k \\Delta T$, con $ k=0,04 \\frac{m}{s \\, ^{\\circ}C}$), cuando la velocidad del flujo sea 0.2 m/s la diferencia de temperaturas entre los dos sensores será de $\\Delta T = 5$. Cuando la velocidad del flujo sea 2 m/s la diferencia de temperaturas entre los dos sensores será de $\\Delta T = 50$. \n",
    "\n",
    "El sensor 1 siempre estará a la misma temperatura de 35 grados centígrados (que es la temperatura de la incubadora, a la cual estará el flujo de aire antes de ser calentado), mientras que el sensor 2 estará a una temperatura de 35+5=40 cuando el flujo sea de 0.2 m/s y de 35+50=85 cuando el flujo sea de 2 m/s. Por ende, **los sensores deben ser capaces de medir en el rango de 35 a 85 grados centígrados**."
   ]
  },
  {
   "cell_type": "markdown",
   "metadata": {},
   "source": [
    "# Incertidumbre"
   ]
  },
  {
   "cell_type": "markdown",
   "metadata": {},
   "source": [
    "La función de transferencia teórica del sistema permite convertir la resistencia leida en un sensor, en un valor de temperatura. Con los dos valores de temperatura así obtenidos, para el sensor 1 y el sensor 2, se obtiene el valor del flujo.\n",
    "\n",
    "Debemos despejar $T=f(R)$ para saber cómo convertir la lectura de resistencia en temperatura. Anteriormente expresamos la recta teórica del sistema como:\n",
    "\n",
    "$R = R_{ref} - R_{ref} \\cdot b \\cdot (T-T_{ref})$\n",
    "\n",
    "Despejamos entonces T (recordemos que $T_{ref}$ era 35 grados centígrados y $R_{ref}$ era R35lin):\n",
    "\n",
    "$ T = T_{ref} + \\frac{1}{b}\\cdot (1-\\frac{R}{R_{ref}})$"
   ]
  },
  {
   "cell_type": "markdown",
   "metadata": {},
   "source": [
    "A este valor de T vamos a llamarlo $T_{aprox}$ ya que es la temperatura aproximada considerando que el paralelo (entre el NTC y una resistencia de linealización) es lineal."
   ]
  },
  {
   "cell_type": "code",
   "execution_count": 20,
   "metadata": {
    "collapsed": true
   },
   "outputs": [],
   "source": [
    "def T_aprox(Tref, Rref, b, R):\n",
    "    # Tref y Taprox ambos en grados centígrados, o ambos en Kelvin\n",
    "    # R en Ohms\n",
    "    return Tref + (1/b) * (1-(R/Rref))"
   ]
  },
  {
   "cell_type": "markdown",
   "metadata": {},
   "source": [
    "Recordemos el valor del coeficiente b, calculado anteriormente:"
   ]
  },
  {
   "cell_type": "code",
   "execution_count": 21,
   "metadata": {
    "scrolled": true
   },
   "outputs": [
    {
     "data": {
      "text/plain": [
       "0.0092480340407916153"
      ]
     },
     "execution_count": 21,
     "metadata": {},
     "output_type": "execute_result"
    }
   ],
   "source": [
    "coef_b"
   ]
  },
  {
   "cell_type": "markdown",
   "metadata": {},
   "source": [
    "A una temperatura de 47.5 grados, el valor del NTC y del paralelo, serán:"
   ]
  },
  {
   "cell_type": "code",
   "execution_count": 22,
   "metadata": {},
   "outputs": [
    {
     "data": {
      "text/plain": [
       "4453.1145064120046"
      ]
     },
     "execution_count": 22,
     "metadata": {},
     "output_type": "execute_result"
    }
   ],
   "source": [
    "R475 = R_NTC(25, 10000, 47.5)\n",
    "R475"
   ]
  },
  {
   "cell_type": "code",
   "execution_count": 23,
   "metadata": {},
   "outputs": [
    {
     "data": {
      "text/plain": [
       "1404.0734995356056"
      ]
     },
     "execution_count": 23,
     "metadata": {},
     "output_type": "execute_result"
    }
   ],
   "source": [
    "R475lin = paralelo(R475, Rlinealizacion)\n",
    "R475lin"
   ]
  },
  {
   "cell_type": "markdown",
   "metadata": {},
   "source": [
    "La temperatura que será leida por el sistema, cuando la temperatura sea de 47.5 grados será:"
   ]
  },
  {
   "cell_type": "code",
   "execution_count": 24,
   "metadata": {},
   "outputs": [
    {
     "data": {
      "text/plain": [
       "47.022634308376979"
      ]
     },
     "execution_count": 24,
     "metadata": {},
     "output_type": "execute_result"
    }
   ],
   "source": [
    "T_aprox(35, R35lin, coef_b, R475lin)"
   ]
  },
  {
   "cell_type": "markdown",
   "metadata": {},
   "source": [
    "**Vemos que habrá un error de poco menos de medio grado (cuando haya 47.5 sobre el sensor 2, el sistema estimará que ese sensor está midiendo 47.0). Como la máxima incertidumbre admisible es $\\pm 0.1 m/s$, de acuerdo a la F de T del sistema equivale a un $\\Delta T$ de 2.5 grados centígrados, y por lo tanto el sensor es apto para esta aplicación.**"
   ]
  },
  {
   "cell_type": "markdown",
   "metadata": {},
   "source": [
    "## Incertidumbre debida a la tolerancia en la resistencia nominal\n",
    "\n",
    "La incertidumbre en la medida puede tener relación con las tolerancias de los parámetros del NTC (resistencia nominal y beta), y con la constante de disipación térmica (ya que si el NTC se calienta por encima de la temperatura que mide, estará arrojando un valor incorrecto). Esta incertidumbre es más dificil de estimar porque lo que genera es un error en el cálculo de la resistencia de linealización y en la obtención de la recta aproximada.\n",
    "\n",
    "Por otra parte, estas incertidumbres se pueden neutralizar durante el proceso de ajuste previo a la calibración, en el cual se fija la salida del sistema para los extremos del rango y se corrigen el offset y ganancia, de modo que la recta aproximada pasa exactamente por donde esperábamos que pase. Por este motivo, no sería correcto considerar esto como una incertidumbre en la medida, pero lo calculamos igual como *ejercicio del pensamiento*. \n",
    "\n",
    "Estimaremos cuál sería la temperatura que leería el flujímetro térmico si no se realizara ningún ajuste, y el sensor linealizado funcionase según la recta aproximada que se calculó antes, siendo posible que su resistencia nominal a 25 grados esté entre los extremos de $10K\\Omega \\pm 1\\%$ es decir entre 9.9K y 10.1K.\n",
    "\n",
    "Para simplificar, sólo analizaremos lo que sucede en un solo punto del rango de entrada (85 grados centígrados en el sensor 2). Los valores posibles para el NTC en este rango de resistencias nominales, pero a 85 grados centígrados sería:"
   ]
  },
  {
   "cell_type": "code",
   "execution_count": 25,
   "metadata": {
    "collapsed": true
   },
   "outputs": [],
   "source": [
    "R85_a=R_NTC(25, 9900, 85)\n",
    "R85_b=R_NTC(25, 10000, 85)\n",
    "R85_c=R_NTC(25, 10100, 85)"
   ]
  },
  {
   "cell_type": "markdown",
   "metadata": {},
   "source": [
    "Recordemos el valor de la resistencia de linealización:"
   ]
  },
  {
   "cell_type": "code",
   "execution_count": 26,
   "metadata": {},
   "outputs": [
    {
     "data": {
      "text/plain": [
       "2050.6447944614793"
      ]
     },
     "execution_count": 26,
     "metadata": {},
     "output_type": "execute_result"
    }
   ],
   "source": [
    "Rlinealizacion"
   ]
  },
  {
   "cell_type": "markdown",
   "metadata": {},
   "source": [
    "Los valores del paralelo serán:"
   ]
  },
  {
   "cell_type": "code",
   "execution_count": 27,
   "metadata": {},
   "outputs": [
    {
     "name": "stdout",
     "output_type": "stream",
     "text": [
      "844.256129277 849.252256833 854.207173222\n"
     ]
    }
   ],
   "source": [
    "R85lin_a = paralelo(R85_a, Rlinealizacion)\n",
    "R85lin_b = paralelo(R85_b, Rlinealizacion)\n",
    "R85lin_c = paralelo(R85_c, Rlinealizacion)\n",
    "print(R85lin_a, R85lin_b, R85lin_c)"
   ]
  },
  {
   "cell_type": "markdown",
   "metadata": {},
   "source": [
    "La temperatura leida para los 3 valores diferentes de resistencia nominal serían:"
   ]
  },
  {
   "cell_type": "code",
   "execution_count": 28,
   "metadata": {},
   "outputs": [
    {
     "name": "stdout",
     "output_type": "stream",
     "text": [
      "85.3419835951 85.0 84.6608372982\n"
     ]
    }
   ],
   "source": [
    "T85a = T_aprox(35, R35lin, coef_b, R85lin_a)\n",
    "T85b = T_aprox(35, R35lin, coef_b, R85lin_b)\n",
    "T85c = T_aprox(35, R35lin, coef_b, R85lin_c)\n",
    "print(T85a, T85b, T85c)"
   ]
  },
  {
   "cell_type": "markdown",
   "metadata": {},
   "source": [
    "Es decir que la variación dentro del $1 \\%$ de la resistencia nominal del NTC puede producir una incerteza de $\\pm 0.35$ grados centígrados, por debajo de los $2.5$ grados centígrados admisibles en la incertidumbre. Un cálculo semejante podríamos hacer considerando la variación en el beta, aunque ambos se podrían corregir durante el ajuste previo a la calibración."
   ]
  },
  {
   "cell_type": "markdown",
   "metadata": {
    "collapsed": true
   },
   "source": [
    "# Sensor de presión\n",
    "\n",
    "## Rango"
   ]
  },
  {
   "cell_type": "markdown",
   "metadata": {},
   "source": [
    "La función de transferencia para convertir la diferencia presión medida en velocidad es:\n",
    "    \n",
    "$v = c \\cdot \\sqrt{a \\cdot \\Delta P}$\n",
    "\n",
    "donde c = 0.04 y $a = 7.5 \\frac{m^4}{s^2 \\cdot kgf}$\n",
    "\n",
    "Para evaluar el rango de diferencia de presiones requerido para el rango esperado de entrada, podemos despejar $\\Delta P$:\n",
    "\n",
    "$\\Delta P = \\frac{1}{a} \\cdot \\left( \\frac{v}{c} \\right)^2$\n",
    "\n",
    "Cabe recordar que $1 kgf = 1 kg \\cdot 9.8 \\frac{m}{s^2} = 9.8 \\frac{kg \\cdot m}{s^2}$ y por lo tanto se puede expresar $a = \\frac{7.5}{9.8} \\frac{m^4 \\cdot s^2}{s^2 \\cdot kg \\cdot m }$ y simplificando $a = \\frac{7.5}{9.8} \\frac{m^3}{kg}$."
   ]
  },
  {
   "cell_type": "markdown",
   "metadata": {},
   "source": [
    "### Extremos del rango"
   ]
  },
  {
   "cell_type": "code",
   "execution_count": 29,
   "metadata": {},
   "outputs": [
    {
     "data": {
      "text/plain": [
       "32.66666666666667"
      ]
     },
     "execution_count": 29,
     "metadata": {},
     "output_type": "execute_result"
    }
   ],
   "source": [
    "def deltaP(v):\n",
    "    # v expresada en m/s\n",
    "    # deltaP expresada en Pascales\n",
    "    return 9.8/7.5 * (v/0.04)**2\n",
    "\n",
    "deltaP(0.2)"
   ]
  },
  {
   "cell_type": "code",
   "execution_count": 30,
   "metadata": {},
   "outputs": [
    {
     "data": {
      "text/plain": [
       "3266.666666666667"
      ]
     },
     "execution_count": 30,
     "metadata": {},
     "output_type": "execute_result"
    }
   ],
   "source": [
    "deltaP(2)"
   ]
  },
  {
   "cell_type": "markdown",
   "metadata": {},
   "source": [
    "### Verificación de las unidades\n",
    "\n",
    "Para verificar las unidades, se muestra a continuación el desarrollo para $v = 0.2 \\frac{m}{s}$:\n",
    "\n",
    "$\\Delta P = \\frac{9.8}{7.5} \\frac{Kg}{m^3} \\cdot \\left( \\frac{0.2 \\frac{m}{s}}{0.04} \\right)^2$"
   ]
  },
  {
   "cell_type": "markdown",
   "metadata": {},
   "source": [
    "$\\Delta P = \\frac{9.8}{7.5} \\cdot 5^2 \\cdot \\frac{kg \\cdot m^2}{m^3 \\cdot s^2}$"
   ]
  },
  {
   "cell_type": "markdown",
   "metadata": {},
   "source": [
    "$\\Delta P = 32.66 \\frac{kg}{m \\cdot s^2} = 32.66 \\, Pa$"
   ]
  },
  {
   "cell_type": "markdown",
   "metadata": {},
   "source": [
    "Por lo tanto el sensor debe ser capaz de medir en un rango que vaya desde 32.66 Pa hasta por lo menos 3266.67 Pa."
   ]
  },
  {
   "cell_type": "markdown",
   "metadata": {},
   "source": [
    "### Conversión a PSI\n",
    "\n",
    "Convertimos los extremos del rango y la incertidumbre a PSI, para evaluar la entrada requerida en el sensor. Sabemos que 1 PSI = 6894,76 Pa."
   ]
  },
  {
   "cell_type": "code",
   "execution_count": 31,
   "metadata": {
    "collapsed": true
   },
   "outputs": [],
   "source": [
    "def pa2psi(pa):\n",
    "    return pa / 6894.76"
   ]
  },
  {
   "cell_type": "code",
   "execution_count": 32,
   "metadata": {},
   "outputs": [
    {
     "data": {
      "text/plain": [
       "0.00473693065458406"
      ]
     },
     "execution_count": 32,
     "metadata": {},
     "output_type": "execute_result"
    }
   ],
   "source": [
    "pa2psi(32.66)"
   ]
  },
  {
   "cell_type": "code",
   "execution_count": 33,
   "metadata": {},
   "outputs": [
    {
     "data": {
      "text/plain": [
       "0.473790240704535"
      ]
     },
     "execution_count": 33,
     "metadata": {},
     "output_type": "execute_result"
    }
   ],
   "source": [
    "pa2psi(3266.67)"
   ]
  },
  {
   "cell_type": "markdown",
   "metadata": {},
   "source": [
    "Por lo tanto puede utilizarse el sensor cuyo rango de entrada está entre 0 y 1 PSI."
   ]
  },
  {
   "cell_type": "markdown",
   "metadata": {},
   "source": [
    "## Incertidumbre\n",
    "\n",
    "El requerimiento es que se pueda medir la velocidad del flujo con una incertidumbre menor a 0.1 m/s. Si convertimos esto a presión tendremos:"
   ]
  },
  {
   "cell_type": "code",
   "execution_count": 34,
   "metadata": {},
   "outputs": [
    {
     "data": {
      "text/plain": [
       "8.166666666666668"
      ]
     },
     "execution_count": 34,
     "metadata": {},
     "output_type": "execute_result"
    }
   ],
   "source": [
    "deltaP(0.1)"
   ]
  },
  {
   "cell_type": "code",
   "execution_count": 35,
   "metadata": {
    "scrolled": true
   },
   "outputs": [
    {
     "data": {
      "text/plain": [
       "0.0011849578520499626"
      ]
     },
     "execution_count": 35,
     "metadata": {},
     "output_type": "execute_result"
    }
   ],
   "source": [
    "pa2psi(8.17)"
   ]
  },
  {
   "cell_type": "markdown",
   "metadata": {},
   "source": [
    "Es decir que el sensor debe provocar como máximo un error de 8.1 Pa = 0.0012 PSI.\n",
    "\n",
    "El máximo error por no-linealidad e histéresis es del 0.5% de fondo de escala (1 PSI), es decir: $0.5 / 100 \\cdot 1 PSI = 0.005 PSI$, lo cual está por encima de la máxima incertidumbre admisible, con lo cual el sensor no es apto para esta aplicación."
   ]
  },
  {
   "cell_type": "markdown",
   "metadata": {},
   "source": [
    "## Conversión de diferencia de presión en velocidad de flujo"
   ]
  },
  {
   "cell_type": "code",
   "execution_count": 36,
   "metadata": {
    "collapsed": true
   },
   "outputs": [],
   "source": [
    "def vFlujo(deltaP):\n",
    "    # deltaP debe estar expresado en Pascales\n",
    "    # el resultado se da en m/s\n",
    "    c = 0.04\n",
    "    a = 7.5/9.8\n",
    "    raiz = np.sqrt(a * deltaP)\n",
    "    return c * raiz"
   ]
  },
  {
   "cell_type": "code",
   "execution_count": 37,
   "metadata": {},
   "outputs": [
    {
     "data": {
      "text/plain": [
       "0.1999795907953956"
      ]
     },
     "execution_count": 37,
     "metadata": {},
     "output_type": "execute_result"
    }
   ],
   "source": [
    "vFlujo(32.66)"
   ]
  },
  {
   "cell_type": "code",
   "execution_count": 38,
   "metadata": {},
   "outputs": [
    {
     "data": {
      "text/plain": [
       "2.0000010204079031"
      ]
     },
     "execution_count": 38,
     "metadata": {},
     "output_type": "execute_result"
    }
   ],
   "source": [
    "vFlujo(3266.67)"
   ]
  }
 ],
 "metadata": {
  "kernelspec": {
   "display_name": "Python 3",
   "language": "python",
   "name": "python3"
  },
  "language_info": {
   "codemirror_mode": {
    "name": "ipython",
    "version": 3
   },
   "file_extension": ".py",
   "mimetype": "text/x-python",
   "name": "python",
   "nbconvert_exporter": "python",
   "pygments_lexer": "ipython3",
   "version": "3.6.0"
  }
 },
 "nbformat": 4,
 "nbformat_minor": 2
}
